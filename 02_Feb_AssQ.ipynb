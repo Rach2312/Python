{
  "cells": [
    {
      "cell_type": "markdown",
      "metadata": {
        "id": "view-in-github",
        "colab_type": "text"
      },
      "source": [
        "<a href=\"https://colab.research.google.com/github/Rach2312/Python/blob/main/02_Feb_AssQ.ipynb\" target=\"_parent\"><img src=\"https://colab.research.google.com/assets/colab-badge.svg\" alt=\"Open In Colab\"/></a>"
      ]
    },
    {
      "cell_type": "markdown",
      "id": "025ee3c4",
      "metadata": {
        "id": "025ee3c4"
      },
      "source": [
        "1. What are the characteristics of the tuples? Is tuple immutable?\n",
        "\n",
        "A tuple is a collection of ordered, immutable elements. key characteristics of tuples:are ordered  and can be accessed by their index.\n",
        "contain any data type, including other tuples.\n",
        "can be used as keys in dictionaries"
      ]
    },
    {
      "cell_type": "markdown",
      "id": "c4be533b",
      "metadata": {
        "id": "c4be533b"
      },
      "source": [
        "2. What are the two tuple methods in python? Give an example of each method. Give a reason why\n",
        "\n",
        "tuples have only two in-built methods as compared to Lists.\n",
        "\n",
        "Two tuple methods in Python are count() and index().\n",
        "The count() method returns the number of times a specified element appears in the tuple.\n",
        "The index() method returns the index of the first occurrence of a specified element in the tuple.\n",
        "\n",
        "Tuples have only two in-built methods (count() and index()) compared to lists because tuples are immutable, \n",
        "which means they cannot be changed once they are created. Lists, on the other hand, are mutable and have \n",
        "many more methods for adding, removing, and modifying elements. Because tuples cannot be modified, \n",
        "there is less need for methods to manipulate their contents."
      ]
    },
    {
      "cell_type": "code",
      "execution_count": null,
      "id": "1562ceb8",
      "metadata": {
        "id": "1562ceb8",
        "outputId": "f3ae6ea4-00cb-473a-d20d-62408b3703cc"
      },
      "outputs": [
        {
          "name": "stdout",
          "output_type": "stream",
          "text": [
            "3\n"
          ]
        }
      ],
      "source": [
        "## Count()\n",
        "my_tuple = (1, 2, 3, 4, 4, 4)\n",
        "count_of_fours = my_tuple.count(4)\n",
        "print(count_of_fours)  # output: 3"
      ]
    },
    {
      "cell_type": "code",
      "execution_count": null,
      "id": "fe5f72bb",
      "metadata": {
        "id": "fe5f72bb",
        "outputId": "1c1db8b2-b2b3-4e94-bbb1-5853faeb12f7"
      },
      "outputs": [
        {
          "name": "stdout",
          "output_type": "stream",
          "text": [
            "2\n"
          ]
        }
      ],
      "source": [
        "## Index()\n",
        "my_tuple = (1, 2, 3, 4, 4, 4)\n",
        "index_of_three = my_tuple.index(3)\n",
        "print(index_of_three)  # output: 2"
      ]
    },
    {
      "cell_type": "markdown",
      "id": "e9f8a407",
      "metadata": {
        "id": "e9f8a407"
      },
      "source": [
        "3. Which collection datatypes in python do not allow duplicate items? Write a code using a set to remove\n",
        "duplicates from the given list.\n",
        "\n",
        "List = [1, 1, 1, 2, 1, 3, 1, 4, 2, 1, 2, 2, 2, 3, 2, 4, 3, 1, 3, 2, 3, 3, 3, 4, 4, 1, 4, 2, 4, 3, 4, 4]\n",
        "\n",
        "Sets donot allow duplicate items."
      ]
    },
    {
      "cell_type": "code",
      "execution_count": null,
      "id": "029a56cc",
      "metadata": {
        "id": "029a56cc",
        "outputId": "16c0f80d-618a-492a-b6b6-b5232c4e5cf9"
      },
      "outputs": [
        {
          "name": "stdout",
          "output_type": "stream",
          "text": [
            "{1, 2, 3, 4}\n"
          ]
        }
      ],
      "source": [
        "List = (1, 1, 1, 2, 1, 3, 1, 4, 2, 1, 2, 2, 2, 3, 2, 4, 3, 1, 3, 2, 3, 3, 3, 4, 4, 1, 4, 2, 4, 3, 4, 4)\n",
        "S1= set(List)\n",
        "print(S1)"
      ]
    },
    {
      "cell_type": "markdown",
      "id": "f365974d",
      "metadata": {
        "id": "f365974d"
      },
      "source": [
        "4. Explain the difference between the union() and update() methods for a set. Give an example of\n",
        "each method.\n",
        "\n",
        "Both union() and update() methods can be used to combine two sets, \n",
        "\n",
        "but there is a subtle difference between them.\n",
        "\n",
        "The union() method returns a new set that contains all the unique elements from both sets. It does not modify \n",
        "\n",
        "either of the original sets.\n",
        "\n",
        "The update() method, on the other hand, modifies the original set to include all the unique elements from another set. \n",
        "\n",
        "So, the key difference between union() and update() is that union() creates a new set that contains all the unique elements \n",
        "\n",
        "from both sets, whereas update() modifies the original set to include all the unique elements from another set."
      ]
    },
    {
      "cell_type": "code",
      "execution_count": null,
      "id": "87ad0e98",
      "metadata": {
        "id": "87ad0e98",
        "outputId": "a22f66a5-da2e-4904-b782-90c903565759"
      },
      "outputs": [
        {
          "name": "stdout",
          "output_type": "stream",
          "text": [
            "{1, 2, 3, 4, 5}\n",
            "{1, 2, 3}\n",
            "{3, 4, 5}\n"
          ]
        }
      ],
      "source": [
        "##Union\n",
        "set1 = {1, 2, 3}\n",
        "set2 = {3, 4, 5}\n",
        "union_set = set1.union(set2)\n",
        "\n",
        "print(union_set)  # output: {1, 2, 3, 4, 5}\n",
        "print(set1)  # output: {1, 2, 3}\n",
        "print(set2)  # output: {3, 4, 5}"
      ]
    },
    {
      "cell_type": "code",
      "execution_count": null,
      "id": "c3b9c2f3",
      "metadata": {
        "id": "c3b9c2f3",
        "outputId": "4560efb0-deb6-4e97-a6d3-3086ede3e869"
      },
      "outputs": [
        {
          "name": "stdout",
          "output_type": "stream",
          "text": [
            "{1, 2, 3, 4, 5}\n",
            "{3, 4, 5}\n"
          ]
        }
      ],
      "source": [
        "## update\n",
        "set1 = {1, 2, 3}\n",
        "set2 = {3, 4, 5}\n",
        "set1.update(set2)\n",
        "\n",
        "print(set1)  # output: {1, 2, 3, 4, 5}\n",
        "print(set2)  # output: {3, 4, 5}"
      ]
    },
    {
      "cell_type": "markdown",
      "id": "13894fed",
      "metadata": {
        "id": "13894fed"
      },
      "source": [
        "5. What is a dictionary? Give an example. Also, state whether a dictionary is ordered or unordered.\n",
        "\n",
        "In Python, a dictionary is a collection of key-value pairs, where each key is associated with a corresponding value. \n",
        "\n",
        "Dictionaries are also sometimes called \"associative arrays\" or \"hash maps\" in other programming languages. \n",
        "\n",
        "Dictionaries are unordered collections in Python. This means that the order in which the key-value pairs are stored in the dictionary is not guaranteed to be the same as the order in which they were added. However, starting from Python 3.7, the order of the keys in a dictionary is guaranteed to be the same as the order in which they were added, thanks to an implementation detail of the CPython interpreter"
      ]
    },
    {
      "cell_type": "code",
      "execution_count": null,
      "id": "f1605fbb",
      "metadata": {
        "id": "f1605fbb",
        "outputId": "4faa5821-4a77-425f-fcc0-123747c7c9b7"
      },
      "outputs": [
        {
          "name": "stdout",
          "output_type": "stream",
          "text": [
            "2\n"
          ]
        }
      ],
      "source": [
        "my_dict = {\"apple\": 2, \"banana\": 3, \"orange\": 1}\n",
        "print(my_dict[\"apple\"])"
      ]
    },
    {
      "cell_type": "markdown",
      "id": "f803e6db",
      "metadata": {
        "id": "f803e6db"
      },
      "source": [
        "6. Can we create a nested dictionary? If so, please give an example by creating a simple one-level\n",
        "nested dictionary.\n",
        "Yes, we can create a nested dictionary in Python. A nested dictionary is simply a dictionary that contains one or more \n",
        "dictionaries as its values. "
      ]
    },
    {
      "cell_type": "code",
      "execution_count": null,
      "id": "932c728f",
      "metadata": {
        "id": "932c728f",
        "outputId": "c3076c78-c720-4ac2-aa09-6e4f1d28ba8f"
      },
      "outputs": [
        {
          "name": "stdout",
          "output_type": "stream",
          "text": [
            "3\n"
          ]
        }
      ],
      "source": [
        "my_dict = {\"fruit\": {\"apple\": 2, \"banana\": 3, \"orange\": 1}}\n",
        "print(my_dict[\"fruit\"][\"banana\"])  "
      ]
    },
    {
      "cell_type": "markdown",
      "id": "48e95bd0",
      "metadata": {
        "id": "48e95bd0"
      },
      "source": [
        "7. Using setdefault() method, create key named topics in the given dictionary and also add the value of\n",
        "the key as this list ['Python', 'Machine Learning’, 'Deep Learning']\n",
        "\n",
        "dict1 = {'language' : 'Python', 'course': 'Data Science Masters'}\n",
        "                      "
      ]
    },
    {
      "cell_type": "code",
      "execution_count": null,
      "id": "ec0161ea",
      "metadata": {
        "id": "ec0161ea",
        "outputId": "db05deca-24ec-4c76-88b4-f9cd858e6a8a"
      },
      "outputs": [
        {
          "name": "stdout",
          "output_type": "stream",
          "text": [
            "{'language': 'Python', 'course': 'Data Science Masters', 'topics': ['Python', 'Machine Learning', 'Deep Learning']}\n"
          ]
        }
      ],
      "source": [
        "dict1 = {'language': 'Python', 'course': 'Data Science Masters'}\n",
        "\n",
        "dict1.setdefault(\"topics\", ['Python', 'Machine Learning', 'Deep Learning'])\n",
        "\n",
        "print(dict1)"
      ]
    },
    {
      "cell_type": "markdown",
      "id": "73cdb63b",
      "metadata": {
        "id": "73cdb63b"
      },
      "source": [
        "8. What are the three view objects in dictionaries? Use the three in-built methods in python to display\n",
        "these three view objects for the given dictionary.\n",
        "\n",
        "dict1 = {'Sport': 'Cricket' , 'Teams': ['India', 'Australia', 'England', 'South Africa', 'Sri Lanka', 'New Zealand']}\n",
        "\n",
        "In Python, dictionaries have three view objects:\n",
        "\n",
        "dict.keys(): This method returns a view object that contains the keys of the dictionary.\n",
        "\n",
        "dict.values(): This method returns a view object that contains the values of the dictionary.\n",
        "\n",
        "dict.items(): This method returns a view object that contains the key-value pairs of the dictionary as tuples.\n",
        "    \n",
        "    "
      ]
    },
    {
      "cell_type": "code",
      "execution_count": null,
      "id": "eee64487",
      "metadata": {
        "id": "eee64487",
        "outputId": "e45672c6-5ab0-4bd7-9468-913e00ba6b75"
      },
      "outputs": [
        {
          "name": "stdout",
          "output_type": "stream",
          "text": [
            "Keys view object: dict_keys(['name', 'age', 'city'])\n",
            "Values view object: dict_values(['John', 30, 'New York'])\n",
            "Items view object: dict_items([('name', 'John'), ('age', 30), ('city', 'New York')])\n"
          ]
        }
      ],
      "source": [
        "my_dict = {\"name\": \"John\", \"age\": 30, \"city\": \"New York\"}\n",
        "\n",
        "# Display the keys view object\n",
        "print(\"Keys view object:\", my_dict.keys())\n",
        "\n",
        "# Display the values view object\n",
        "print(\"Values view object:\", my_dict.values())\n",
        "\n",
        "# Display the items view object\n",
        "print(\"Items view object:\", my_dict.items())"
      ]
    },
    {
      "cell_type": "code",
      "execution_count": null,
      "id": "804567ec",
      "metadata": {
        "id": "804567ec"
      },
      "outputs": [],
      "source": []
    }
  ],
  "metadata": {
    "kernelspec": {
      "display_name": "Python 3 (ipykernel)",
      "language": "python",
      "name": "python3"
    },
    "language_info": {
      "codemirror_mode": {
        "name": "ipython",
        "version": 3
      },
      "file_extension": ".py",
      "mimetype": "text/x-python",
      "name": "python",
      "nbconvert_exporter": "python",
      "pygments_lexer": "ipython3",
      "version": "3.9.7"
    },
    "colab": {
      "provenance": [],
      "include_colab_link": true
    }
  },
  "nbformat": 4,
  "nbformat_minor": 5
}